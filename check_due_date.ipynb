{
 "metadata": {
  "language_info": {
   "codemirror_mode": {
    "name": "ipython",
    "version": 3
   },
   "file_extension": ".py",
   "mimetype": "text/x-python",
   "name": "python",
   "nbconvert_exporter": "python",
   "pygments_lexer": "ipython3",
   "version": "3.7.6-final"
  },
  "orig_nbformat": 2,
  "kernelspec": {
   "name": "Python 3.7.6 64-bit ('spam': conda)",
   "display_name": "Python 3.7.6 64-bit ('spam': conda)",
   "metadata": {
    "interpreter": {
     "hash": "942a77e44516bb6a5b65a52cb92270239ff463482d5ad8ff8137c61e127da377"
    }
   }
  }
 },
 "nbformat": 4,
 "nbformat_minor": 2,
 "cells": [
  {
   "cell_type": "code",
   "execution_count": 37,
   "metadata": {},
   "outputs": [],
   "source": [
    "import pandas as pd"
   ]
  },
  {
   "cell_type": "code",
   "execution_count": 38,
   "metadata": {},
   "outputs": [
    {
     "output_type": "stream",
     "name": "stdout",
     "text": [
      "name              object\ngender            object\ndepartment        object\nlicense_type      object\njob_type          object\ntraining_unit     object\nissue_date        object\nreview_date       object\nreview_period      int64\ncomments         float64\ndtype: object\n  name gender department license_type job_type training_unit  issue_date  \\\n0  虞洪庆     xx  inventory       特种作业操作       叉车         无锡安监局  02-04-2019   \n1  张亚亚      男  inventory       特种作业操作       叉车         无锡安监局  02-04-2019   \n2   小王      男  inventory       特种作业操作       叉车         无锡安监局  02-04-2019   \n\n  review_date  review_period  comments  \n0  02-03-2023              1       NaN  \n1  02-03-2023              4       NaN  \n2  02-03-2020              1       NaN  \n"
     ]
    }
   ],
   "source": [
    "df = pd.read_excel(\"./employee-info.xlsx\")\n",
    "print(df.dtypes)\n",
    "print(df)\n",
    "# check if date is in correct data type\n",
    "# https://www.dataindependent.com/pandas/pandas-to-datetime/"
   ]
  },
  {
   "cell_type": "code",
   "execution_count": 39,
   "metadata": {},
   "outputs": [
    {
     "output_type": "execute_result",
     "data": {
      "text/plain": [
       "name                     object\n",
       "gender                   object\n",
       "department               object\n",
       "license_type             object\n",
       "job_type                 object\n",
       "training_unit            object\n",
       "issue_date       datetime64[ns]\n",
       "review_date      datetime64[ns]\n",
       "review_period             int64\n",
       "comments                float64\n",
       "dtype: object"
      ]
     },
     "metadata": {},
     "execution_count": 39
    }
   ],
   "source": [
    "\n",
    "df[\"review_date\"] = pd.to_datetime(df[\"review_date\"], format=\"%m-%d-%Y\")\n",
    "df[\"issue_date\"] = pd.to_datetime(df[\"issue_date\"], format=\"%m-%d-%Y\")\n"
   ]
  },
  {
   "cell_type": "code",
   "execution_count": 40,
   "metadata": {},
   "outputs": [
    {
     "output_type": "execute_result",
     "data": {
      "text/plain": [
       "datetime.datetime(2020, 11, 8, 9, 43, 50, 377668)"
      ]
     },
     "metadata": {},
     "execution_count": 40
    }
   ],
   "source": [
    "import datetime\n",
    "now = datetime.datetime.now()\n",
    "now"
   ]
  },
  {
   "cell_type": "code",
   "execution_count": 41,
   "metadata": {},
   "outputs": [
    {
     "output_type": "execute_result",
     "data": {
      "text/plain": [
       "       name gender department license_type job_type training_unit  \\\n",
       "count     3      3          3            3        3             3   \n",
       "unique    3      2          1            1        1             1   \n",
       "top     虞洪庆      男  inventory       特种作业操作       叉车         无锡安监局   \n",
       "freq      1      2          3            3        3             3   \n",
       "first   NaN    NaN        NaN          NaN      NaN           NaN   \n",
       "last    NaN    NaN        NaN          NaN      NaN           NaN   \n",
       "mean    NaN    NaN        NaN          NaN      NaN           NaN   \n",
       "std     NaN    NaN        NaN          NaN      NaN           NaN   \n",
       "min     NaN    NaN        NaN          NaN      NaN           NaN   \n",
       "25%     NaN    NaN        NaN          NaN      NaN           NaN   \n",
       "50%     NaN    NaN        NaN          NaN      NaN           NaN   \n",
       "75%     NaN    NaN        NaN          NaN      NaN           NaN   \n",
       "max     NaN    NaN        NaN          NaN      NaN           NaN   \n",
       "\n",
       "                 issue_date          review_date  review_period  comments  \n",
       "count                     3                    3       3.000000       0.0  \n",
       "unique                    1                    2            NaN       NaN  \n",
       "top     2019-02-04 00:00:00  2023-02-03 00:00:00            NaN       NaN  \n",
       "freq                      3                    2            NaN       NaN  \n",
       "first   2019-02-04 00:00:00  2020-02-03 00:00:00            NaN       NaN  \n",
       "last    2019-02-04 00:00:00  2023-02-03 00:00:00            NaN       NaN  \n",
       "mean                    NaN                  NaN       2.000000       NaN  \n",
       "std                     NaN                  NaN       1.732051       NaN  \n",
       "min                     NaN                  NaN       1.000000       NaN  \n",
       "25%                     NaN                  NaN       1.000000       NaN  \n",
       "50%                     NaN                  NaN       1.000000       NaN  \n",
       "75%                     NaN                  NaN       2.500000       NaN  \n",
       "max                     NaN                  NaN       4.000000       NaN  "
      ],
      "text/html": "<div>\n<style scoped>\n    .dataframe tbody tr th:only-of-type {\n        vertical-align: middle;\n    }\n\n    .dataframe tbody tr th {\n        vertical-align: top;\n    }\n\n    .dataframe thead th {\n        text-align: right;\n    }\n</style>\n<table border=\"1\" class=\"dataframe\">\n  <thead>\n    <tr style=\"text-align: right;\">\n      <th></th>\n      <th>name</th>\n      <th>gender</th>\n      <th>department</th>\n      <th>license_type</th>\n      <th>job_type</th>\n      <th>training_unit</th>\n      <th>issue_date</th>\n      <th>review_date</th>\n      <th>review_period</th>\n      <th>comments</th>\n    </tr>\n  </thead>\n  <tbody>\n    <tr>\n      <th>count</th>\n      <td>3</td>\n      <td>3</td>\n      <td>3</td>\n      <td>3</td>\n      <td>3</td>\n      <td>3</td>\n      <td>3</td>\n      <td>3</td>\n      <td>3.000000</td>\n      <td>0.0</td>\n    </tr>\n    <tr>\n      <th>unique</th>\n      <td>3</td>\n      <td>2</td>\n      <td>1</td>\n      <td>1</td>\n      <td>1</td>\n      <td>1</td>\n      <td>1</td>\n      <td>2</td>\n      <td>NaN</td>\n      <td>NaN</td>\n    </tr>\n    <tr>\n      <th>top</th>\n      <td>虞洪庆</td>\n      <td>男</td>\n      <td>inventory</td>\n      <td>特种作业操作</td>\n      <td>叉车</td>\n      <td>无锡安监局</td>\n      <td>2019-02-04 00:00:00</td>\n      <td>2023-02-03 00:00:00</td>\n      <td>NaN</td>\n      <td>NaN</td>\n    </tr>\n    <tr>\n      <th>freq</th>\n      <td>1</td>\n      <td>2</td>\n      <td>3</td>\n      <td>3</td>\n      <td>3</td>\n      <td>3</td>\n      <td>3</td>\n      <td>2</td>\n      <td>NaN</td>\n      <td>NaN</td>\n    </tr>\n    <tr>\n      <th>first</th>\n      <td>NaN</td>\n      <td>NaN</td>\n      <td>NaN</td>\n      <td>NaN</td>\n      <td>NaN</td>\n      <td>NaN</td>\n      <td>2019-02-04 00:00:00</td>\n      <td>2020-02-03 00:00:00</td>\n      <td>NaN</td>\n      <td>NaN</td>\n    </tr>\n    <tr>\n      <th>last</th>\n      <td>NaN</td>\n      <td>NaN</td>\n      <td>NaN</td>\n      <td>NaN</td>\n      <td>NaN</td>\n      <td>NaN</td>\n      <td>2019-02-04 00:00:00</td>\n      <td>2023-02-03 00:00:00</td>\n      <td>NaN</td>\n      <td>NaN</td>\n    </tr>\n    <tr>\n      <th>mean</th>\n      <td>NaN</td>\n      <td>NaN</td>\n      <td>NaN</td>\n      <td>NaN</td>\n      <td>NaN</td>\n      <td>NaN</td>\n      <td>NaN</td>\n      <td>NaN</td>\n      <td>2.000000</td>\n      <td>NaN</td>\n    </tr>\n    <tr>\n      <th>std</th>\n      <td>NaN</td>\n      <td>NaN</td>\n      <td>NaN</td>\n      <td>NaN</td>\n      <td>NaN</td>\n      <td>NaN</td>\n      <td>NaN</td>\n      <td>NaN</td>\n      <td>1.732051</td>\n      <td>NaN</td>\n    </tr>\n    <tr>\n      <th>min</th>\n      <td>NaN</td>\n      <td>NaN</td>\n      <td>NaN</td>\n      <td>NaN</td>\n      <td>NaN</td>\n      <td>NaN</td>\n      <td>NaN</td>\n      <td>NaN</td>\n      <td>1.000000</td>\n      <td>NaN</td>\n    </tr>\n    <tr>\n      <th>25%</th>\n      <td>NaN</td>\n      <td>NaN</td>\n      <td>NaN</td>\n      <td>NaN</td>\n      <td>NaN</td>\n      <td>NaN</td>\n      <td>NaN</td>\n      <td>NaN</td>\n      <td>1.000000</td>\n      <td>NaN</td>\n    </tr>\n    <tr>\n      <th>50%</th>\n      <td>NaN</td>\n      <td>NaN</td>\n      <td>NaN</td>\n      <td>NaN</td>\n      <td>NaN</td>\n      <td>NaN</td>\n      <td>NaN</td>\n      <td>NaN</td>\n      <td>1.000000</td>\n      <td>NaN</td>\n    </tr>\n    <tr>\n      <th>75%</th>\n      <td>NaN</td>\n      <td>NaN</td>\n      <td>NaN</td>\n      <td>NaN</td>\n      <td>NaN</td>\n      <td>NaN</td>\n      <td>NaN</td>\n      <td>NaN</td>\n      <td>2.500000</td>\n      <td>NaN</td>\n    </tr>\n    <tr>\n      <th>max</th>\n      <td>NaN</td>\n      <td>NaN</td>\n      <td>NaN</td>\n      <td>NaN</td>\n      <td>NaN</td>\n      <td>NaN</td>\n      <td>NaN</td>\n      <td>NaN</td>\n      <td>4.000000</td>\n      <td>NaN</td>\n    </tr>\n  </tbody>\n</table>\n</div>"
     },
     "metadata": {},
     "execution_count": 41
    }
   ],
   "source": [
    "df.describe(include=\"all\")"
   ]
  },
  {
   "cell_type": "code",
   "execution_count": 71,
   "metadata": {},
   "outputs": [
    {
     "output_type": "execute_result",
     "data": {
      "text/plain": [
       "  name gender department license_type job_type training_unit issue_date  \\\n",
       "0  虞洪庆     xx  inventory       特种作业操作       叉车         无锡安监局 2019-02-04   \n",
       "1  张亚亚      男  inventory       特种作业操作       叉车         无锡安监局 2019-02-04   \n",
       "\n",
       "  review_date review_period comments  \n",
       "0  2023-02-03             1      NaN  \n",
       "1  2023-02-03             4      NaN  "
      ],
      "text/html": "<div>\n<style scoped>\n    .dataframe tbody tr th:only-of-type {\n        vertical-align: middle;\n    }\n\n    .dataframe tbody tr th {\n        vertical-align: top;\n    }\n\n    .dataframe thead th {\n        text-align: right;\n    }\n</style>\n<table border=\"1\" class=\"dataframe\">\n  <thead>\n    <tr style=\"text-align: right;\">\n      <th></th>\n      <th>name</th>\n      <th>gender</th>\n      <th>department</th>\n      <th>license_type</th>\n      <th>job_type</th>\n      <th>training_unit</th>\n      <th>issue_date</th>\n      <th>review_date</th>\n      <th>review_period</th>\n      <th>comments</th>\n    </tr>\n  </thead>\n  <tbody>\n    <tr>\n      <th>0</th>\n      <td>虞洪庆</td>\n      <td>xx</td>\n      <td>inventory</td>\n      <td>特种作业操作</td>\n      <td>叉车</td>\n      <td>无锡安监局</td>\n      <td>2019-02-04</td>\n      <td>2023-02-03</td>\n      <td>1</td>\n      <td>NaN</td>\n    </tr>\n    <tr>\n      <th>1</th>\n      <td>张亚亚</td>\n      <td>男</td>\n      <td>inventory</td>\n      <td>特种作业操作</td>\n      <td>叉车</td>\n      <td>无锡安监局</td>\n      <td>2019-02-04</td>\n      <td>2023-02-03</td>\n      <td>4</td>\n      <td>NaN</td>\n    </tr>\n  </tbody>\n</table>\n</div>"
     },
     "metadata": {},
     "execution_count": 71
    }
   ],
   "source": [
    "list = df.columns.to_list()\n",
    "df_ = pd.DataFrame( columns=list)\n",
    "df_ = df_.fillna(0)\n",
    "for index, row in df.iterrows():\n",
    "    if row['review_date'] > now:\n",
    "        df_ = df_.append(row)\n",
    "        \n",
    "    else:\n",
    "        pass\n",
    "df_"
   ]
  },
  {
   "cell_type": "code",
   "execution_count": 72,
   "metadata": {},
   "outputs": [],
   "source": [
    "# create excel writer\n",
    "writer = pd.ExcelWriter('output.xlsx')\n",
    "# write dataframe to excel sheet named 'marks'\n",
    "df_.to_excel(writer, sheet_name='list_of_renew_needed')\n",
    "# save the excel file\n",
    "writer.save()"
   ]
  },
  {
   "cell_type": "code",
   "execution_count": null,
   "metadata": {},
   "outputs": [],
   "source": []
  },
  {
   "cell_type": "code",
   "execution_count": null,
   "metadata": {},
   "outputs": [],
   "source": []
  },
  {
   "cell_type": "code",
   "execution_count": null,
   "metadata": {},
   "outputs": [],
   "source": []
  },
  {
   "cell_type": "code",
   "execution_count": null,
   "metadata": {},
   "outputs": [],
   "source": []
  },
  {
   "cell_type": "code",
   "execution_count": null,
   "metadata": {},
   "outputs": [],
   "source": []
  },
  {
   "cell_type": "code",
   "execution_count": null,
   "metadata": {},
   "outputs": [],
   "source": []
  }
 ]
}